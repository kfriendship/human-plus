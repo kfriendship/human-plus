{
 "cells": [
  {
   "cell_type": "code",
   "execution_count": 1,
   "metadata": {},
   "outputs": [],
   "source": [
    "# to read old Matlab format\n",
    "#from scipy.io import loadmat    \n",
    "#feature_onse_3s = loadmat('data/feature_onset_3s.mat')"
   ]
  },
  {
   "cell_type": "code",
   "execution_count": 2,
   "metadata": {},
   "outputs": [
    {
     "name": "stdout",
     "output_type": "stream",
     "text": [
      "Shape of the array feature_cor = \n",
      " (36, 1596)\n",
      "Shape of the array feature_incor = \n",
      " (8, 1596)\n"
     ]
    }
   ],
   "source": [
    "# v73 format is loaded by h5py\n",
    "import h5py\n",
    "import numpy as np\n",
    "\n",
    "featureFilename = \"data/feature_onset_3s.mat\"\n",
    "with h5py.File(featureFilename,'r') as hf:\n",
    "    feature_cor = np.array(hf.get('WT_cor_onset_3s'))\n",
    "    print('Shape of the array feature_cor = \\n', feature_cor.shape)\n",
    "\n",
    "    feature_incor = np.array(hf.get('WT_incor_onset_3s'))\n",
    "    print('Shape of the array feature_incor = \\n', feature_incor.shape)\n"
   ]
  },
  {
   "cell_type": "code",
   "execution_count": 3,
   "metadata": {},
   "outputs": [
    {
     "data": {
      "text/plain": [
       "Text(0,0.5,'count')"
      ]
     },
     "execution_count": 3,
     "metadata": {},
     "output_type": "execute_result"
    },
    {
     "data": {
      "image/png": "[encoded data removed]",
      "text/plain": [
       "<Figure size 432x288 with 1 Axes>"
      ]
     },
     "metadata": {},
     "output_type": "display_data"
    }
   ],
   "source": [
    "# Calculate the Wilcoxon rank sum test.\n",
    "# https://docs.scipy.org/doc/scipy/reference/generated/scipy.stats.ranksums.html\n",
    "\n",
    "from scipy.stats import ranksums\n",
    "\n",
    "numTrialCor, dimFeature = feature_cor.shape\n",
    "numTrialIncor, dimFeature = feature_incor.shape\n",
    "\n",
    "# for each channel*freq\n",
    "pVal = list()\n",
    "for i in range(dimFeature):\n",
    "    T, p = ranksums(feature_cor[:,i], feature_incor[:,i])\n",
    "    pVal.append(p)\n",
    "    \n",
    "\n",
    "import matplotlib.pyplot as plt\n",
    "%matplotlib inline\n",
    "plt.hist(pVal)\n",
    "plt.xlabel('p')\n",
    "plt.ylabel('count')"
   ]
  },
  {
   "cell_type": "code",
   "execution_count": 4,
   "metadata": {},
   "outputs": [
    {
     "data": {
      "text/plain": [
       "Text(0.5,0,'channel')"
      ]
     },
     "execution_count": 4,
     "metadata": {},
     "output_type": "execute_result"
    },
    {
     "data": {
      "image/png": "[encoded data removed]",
      "text/plain": [
       "<Figure size 432x288 with 2 Axes>"
      ]
     },
     "metadata": {},
     "output_type": "display_data"
    }
   ],
   "source": [
    "pVal2D = np.reshape(pVal, (38, 42))\n",
    "idxSelectedFeature = pVal2D<0.05\n",
    "\n",
    "plt.subplot(121)\n",
    "plt.imshow(pVal2D)\n",
    "plt.gca().invert_yaxis()\n",
    "plt.xlabel('channel')\n",
    "plt.ylabel('freq idx')\n",
    "plt.subplot(122)\n",
    "plt.imshow(idxSelectedFeature, cmap='gray')\n",
    "plt.gca().invert_yaxis()\n",
    "plt.xlabel('channel')"
   ]
  },
  {
   "cell_type": "code",
   "execution_count": 12,
   "metadata": {},
   "outputs": [
    {
     "name": "stdout",
     "output_type": "stream",
     "text": [
      "ch=1, freq=19\n",
      "ch=2, freq=19\n",
      "ch=3, freq=8\n",
      "ch=3, freq=17\n",
      "ch=3, freq=19\n",
      "ch=3, freq=40\n",
      "ch=3, freq=44\n",
      "ch=3, freq=48\n",
      "ch=4, freq=8\n",
      "ch=4, freq=21\n",
      "ch=4, freq=36\n",
      "ch=4, freq=40\n",
      "ch=4, freq=44\n",
      "ch=4, freq=48\n",
      "ch=5, freq=56\n",
      "ch=7, freq=12\n",
      "ch=7, freq=13\n",
      "ch=7, freq=64\n",
      "ch=8, freq=5\n",
      "ch=8, freq=27\n",
      "ch=8, freq=29\n",
      "ch=8, freq=32\n",
      "ch=9, freq=29\n",
      "ch=9, freq=32\n",
      "ch=9, freq=36\n",
      "ch=9, freq=44\n",
      "ch=9, freq=48\n",
      "ch=9, freq=52\n",
      "ch=9, freq=56\n",
      "ch=9, freq=72\n",
      "ch=9, freq=76\n",
      "ch=9, freq=80\n",
      "ch=9, freq=84\n",
      "ch=9, freq=88\n",
      "ch=9, freq=92\n",
      "ch=9, freq=96\n",
      "ch=9, freq=100\n",
      "ch=10, freq=1\n",
      "ch=10, freq=96\n",
      "ch=11, freq=1\n",
      "ch=11, freq=44\n",
      "ch=11, freq=48\n",
      "ch=12, freq=1\n",
      "ch=14, freq=7\n",
      "ch=14, freq=13\n",
      "ch=14, freq=96\n",
      "ch=14, freq=100\n",
      "ch=16, freq=1\n",
      "ch=17, freq=7\n",
      "ch=17, freq=8\n",
      "ch=17, freq=9\n",
      "ch=18, freq=76\n",
      "ch=18, freq=80\n",
      "ch=18, freq=84\n",
      "ch=18, freq=88\n",
      "ch=19, freq=2\n",
      "ch=19, freq=23\n",
      "ch=19, freq=25\n",
      "ch=20, freq=32\n",
      "ch=20, freq=36\n",
      "ch=20, freq=40\n",
      "ch=20, freq=44\n",
      "ch=20, freq=48\n",
      "ch=21, freq=32\n",
      "ch=21, freq=36\n",
      "ch=21, freq=40\n",
      "ch=21, freq=44\n",
      "ch=21, freq=48\n",
      "ch=21, freq=52\n",
      "ch=22, freq=40\n",
      "ch=22, freq=44\n",
      "ch=22, freq=48\n",
      "ch=22, freq=52\n",
      "ch=22, freq=56\n",
      "ch=22, freq=64\n",
      "ch=22, freq=68\n",
      "ch=22, freq=72\n",
      "ch=22, freq=76\n",
      "ch=22, freq=80\n",
      "ch=22, freq=84\n",
      "ch=22, freq=88\n",
      "ch=24, freq=2\n",
      "ch=25, freq=4\n",
      "ch=26, freq=4\n",
      "ch=28, freq=7\n",
      "ch=28, freq=19\n",
      "ch=28, freq=21\n",
      "ch=28, freq=23\n",
      "ch=28, freq=25\n",
      "ch=28, freq=27\n",
      "ch=28, freq=29\n",
      "ch=28, freq=52\n",
      "ch=28, freq=56\n",
      "ch=28, freq=64\n",
      "ch=30, freq=5\n",
      "ch=31, freq=4\n",
      "ch=33, freq=4\n",
      "ch=33, freq=29\n",
      "ch=33, freq=32\n",
      "ch=34, freq=100\n",
      "ch=36, freq=40\n",
      "ch=36, freq=44\n",
      "ch=36, freq=48\n",
      "ch=36, freq=52\n",
      "ch=36, freq=56\n",
      "ch=36, freq=64\n",
      "ch=36, freq=68\n",
      "ch=37, freq=12\n",
      "ch=39, freq=12\n",
      "ch=39, freq=68\n",
      "ch=41, freq=2\n",
      "ch=41, freq=7\n",
      "[(1, 15), (2, 15), (3, 7), (3, 14), (3, 15), (3, 23), (3, 24), (3, 25), (4, 7), (4, 16), (4, 22), (4, 23), (4, 24), (4, 25), (5, 27), (7, 11), (7, 12), (7, 28), (8, 4), (8, 19), (8, 20), (8, 21), (9, 20), (9, 21), (9, 22), (9, 24), (9, 25), (9, 26), (9, 27), (9, 30), (9, 31), (9, 32), (9, 33), (9, 34), (9, 35), (9, 36), (9, 37), (10, 0), (10, 36), (11, 0), (11, 24), (11, 25), (12, 0), (14, 6), (14, 12), (14, 36), (14, 37), (16, 0), (17, 6), (17, 7), (17, 8), (18, 31), (18, 32), (18, 33), (18, 34), (19, 1), (19, 17), (19, 18), (20, 21), (20, 22), (20, 23), (20, 24), (20, 25), (21, 21), (21, 22), (21, 23), (21, 24), (21, 25), (21, 26), (22, 23), (22, 24), (22, 25), (22, 26), (22, 27), (22, 28), (22, 29), (22, 30), (22, 31), (22, 32), (22, 33), (22, 34), (24, 1), (25, 3), (26, 3), (28, 6), (28, 15), (28, 16), (28, 17), (28, 18), (28, 19), (28, 20), (28, 26), (28, 27), (28, 28), (30, 4), (31, 3), (33, 3), (33, 20), (33, 21), (34, 37), (36, 23), (36, 24), (36, 25), (36, 26), (36, 27), (36, 28), (36, 29), (37, 11), (39, 11), (39, 29), (41, 1), (41, 6)]\n",
      "112\n"
     ]
    }
   ],
   "source": [
    "# print selected channels\n",
    "Fs = [ 1,     2,     3,     4,     5,     6,     7,     8,     9,    10,    11,    12,    13,    15,\n",
    "    17,    19,    21,    23,    25,    27,    29,    32,    36,    40,    44,    48,    52,    56,\n",
    "    64,    68,    72,    76,    80,    84,    88,    92,    96,   100]\n",
    "\n",
    "#pTh = 0.05\n",
    "pTh = 0.1 # increase a bit \n",
    "#pTh = 0.15 # increase more\n",
    "\n",
    "#plt.imshow(range(42),Fs, pVal2D)\n",
    "listSelectedFeature = list()\n",
    "for ch in range(42):\n",
    "    for i in range(38):\n",
    "        if pVal2D[i][ch] < pTh: #idxSelectedFeature[i,ch]:\n",
    "            print(\"ch={}, freq={}\".format(ch+1,Fs[i]))\n",
    "            listSelectedFeature.append((ch+1,i))\n",
    "np.savetxt(\"listSelectedFeature_p{}.txt\".format(pTh), listSelectedFeature)\n",
    "print(listSelectedFeature)\n",
    "print(len(listSelectedFeature))"
   ]
  },
  {
   "cell_type": "code",
   "execution_count": 6,
   "metadata": {},
   "outputs": [],
   "source": [
    "# Now, select features \n",
    "idx=np.array(pVal)<pTh\n",
    "selected_feature_cor = feature_cor[:,idx]\n",
    "selected_feature_incor = feature_incor[:,idx]"
   ]
  },
  {
   "cell_type": "code",
   "execution_count": 7,
   "metadata": {},
   "outputs": [
    {
     "name": "stdout",
     "output_type": "stream",
     "text": [
      "(36, 112)\n",
      "(8, 112)\n"
     ]
    }
   ],
   "source": [
    "print(selected_feature_cor.shape)\n",
    "print(selected_feature_incor.shape)"
   ]
  },
  {
   "cell_type": "code",
   "execution_count": 8,
   "metadata": {},
   "outputs": [
    {
     "name": "stdout",
     "output_type": "stream",
     "text": [
      "[ 7.54447010e-16  5.17263000e-16  2.24820162e-15  7.11552029e-16\n",
      " -2.56612913e-15 -1.66028807e-15 -2.62416351e-16 -3.67382892e-15\n",
      " -1.39408687e-15 -3.98298917e-16 -1.56046262e-16 -1.95550646e-16\n",
      "  1.94289029e-15  3.06825272e-15 -3.22973971e-16  1.54674253e-15\n",
      "  4.94553893e-16 -2.94272182e-15 -1.75869420e-15 -3.43759112e-15\n",
      "  6.18192366e-16  2.78186565e-16  7.91033905e-16 -7.46877307e-16\n",
      "  1.54926577e-15  1.74355480e-15 -8.70515781e-17 -2.37940980e-15\n",
      " -9.75229998e-16 -2.24504758e-15  2.29614307e-15 -5.09693298e-16\n",
      " -5.77820620e-16  6.09613370e-15 -3.22217001e-15  3.95643114e-15\n",
      "  1.28180295e-15  1.43256619e-15 -7.21644966e-16  8.60422844e-16\n",
      "  1.75995582e-15  7.56970244e-15 -2.64182615e-15 -1.97316910e-15\n",
      "  1.66533454e-15 -1.91765795e-16 -9.61352210e-16 -6.67395432e-16\n",
      "  4.78657518e-15 -2.67462820e-16 -2.19269047e-15 -1.44581317e-15\n",
      "  3.97409378e-16  1.61581607e-15  1.58963751e-15  8.45283439e-16\n",
      " -1.05092702e-15 -2.56108266e-16  9.03317825e-16  3.16823588e-16\n",
      "  8.90701654e-16  1.51646372e-15 -1.36254644e-16  2.22296928e-15\n",
      "  1.31208176e-15 -2.81340607e-15 -1.08751392e-15 -8.97640548e-16\n",
      " -9.68921912e-16 -3.16161239e-15 -1.80663565e-15 -1.03452600e-16\n",
      " -8.73039015e-16  4.51658912e-15 -4.49135678e-16  3.17927503e-16\n",
      "  1.23890797e-15  1.99840144e-15  1.09003715e-15  3.13890328e-15\n",
      " -4.41565976e-17 -2.47276946e-15 -7.01459093e-16  7.03982327e-16\n",
      " -6.34908792e-16 -6.75595943e-16  2.29109661e-15  2.26334103e-15\n",
      "  1.78865761e-15 -2.78312726e-15 -6.32306707e-16 -1.41679597e-15\n",
      " -4.51028104e-16  9.91631020e-16  1.47356874e-15  1.16384175e-15\n",
      " -6.50994410e-16 -4.18352222e-15  2.73045475e-15 -1.56692841e-15\n",
      " -3.73438654e-16 -1.99540510e-15 -2.98498600e-15 -1.27423324e-15\n",
      "  1.01118608e-15  1.13797860e-15  1.32469793e-15 -4.74368020e-16\n",
      "  3.38618023e-15 -1.84779591e-15  1.01055528e-15  1.51267887e-15]\n",
      "[1. 1. 1. 1. 1. 1. 1. 1. 1. 1. 1. 1. 1. 1. 1. 1. 1. 1. 1. 1. 1. 1. 1. 1.\n",
      " 1. 1. 1. 1. 1. 1. 1. 1. 1. 1. 1. 1. 1. 1. 1. 1. 1. 1. 1. 1. 1. 1. 1. 1.\n",
      " 1. 1. 1. 1. 1. 1. 1. 1. 1. 1. 1. 1. 1. 1. 1. 1. 1. 1. 1. 1. 1. 1. 1. 1.\n",
      " 1. 1. 1. 1. 1. 1. 1. 1. 1. 1. 1. 1. 1. 1. 1. 1. 1. 1. 1. 1. 1. 1. 1. 1.\n",
      " 1. 1. 1. 1. 1. 1. 1. 1. 1. 1. 1. 1. 1. 1. 1. 1.]\n"
     ]
    }
   ],
   "source": [
    "# let's standardize data\n",
    "X = np.concatenate((selected_feature_cor, selected_feature_incor),axis=0)\n",
    "Y = np.append(np.ones(numTrialCor),-np.ones(numTrialIncor))\n",
    "\n",
    "from sklearn import preprocessing\n",
    "# http://scikit-learn.org/stable/modules/preprocessing.html\n",
    "X_scaled = preprocessing.scale(X)\n",
    "\n",
    "print(X_scaled.mean(axis=0))\n",
    "print(X_scaled.std(axis=0))"
   ]
  },
  {
   "cell_type": "code",
   "execution_count": 9,
   "metadata": {},
   "outputs": [
    {
     "data": {
      "text/plain": [
       "<matplotlib.image.AxesImage at 0x10a5356a0>"
      ]
     },
     "execution_count": 9,
     "metadata": {},
     "output_type": "execute_result"
    },
    {
     "data": {
      "image/png": "[encoded data removed]",
      "text/plain": [
       "<Figure size 432x288 with 1 Axes>"
      ]
     },
     "metadata": {},
     "output_type": "display_data"
    }
   ],
   "source": [
    "plt.imshow(X_scaled)"
   ]
  },
  {
   "cell_type": "code",
   "execution_count": 10,
   "metadata": {},
   "outputs": [
    {
     "data": {
      "text/plain": [
       "<matplotlib.image.AxesImage at 0x10a712f28>"
      ]
     },
     "execution_count": 10,
     "metadata": {},
     "output_type": "execute_result"
    },
    {
     "data": {
      "image/png": "[encoded data removed]",
      "text/plain": [
       "<Figure size 432x288 with 2 Axes>"
      ]
     },
     "metadata": {},
     "output_type": "display_data"
    }
   ],
   "source": [
    "# compare mean\n",
    "plt.subplot(121)\n",
    "plt.imshow(X_scaled[Y>0,:])\n",
    "plt.subplot(122)\n",
    "plt.imshow(X_scaled[Y<0,:])"
   ]
  },
  {
   "cell_type": "code",
   "execution_count": 11,
   "metadata": {},
   "outputs": [],
   "source": [
    "# save to a file\n",
    "np.savetxt(\"WT_3s_X_p{}.txt\".format(pTh),X)   # 44x45\n",
    "np.savetxt(\"WT_3s_X_scaled_p{}.txt\".format(pTh),X_scaled)   # 44x45\n",
    "np.savetxt(\"WT_3s_Y_p{}.txt\".format(pTh), Y)         # 44x1\n",
    "\n",
    "# copy these files to data/"
   ]
  },
  {
   "cell_type": "code",
   "execution_count": null,
   "metadata": {},
   "outputs": [],
   "source": []
  }
 ],
 "metadata": {
  "kernelspec": {
   "display_name": "Python 3",
   "language": "python",
   "name": "python3"
  },
  "language_info": {
   "codemirror_mode": {
    "name": "ipython",
    "version": 3
   },
   "file_extension": ".py",
   "mimetype": "text/x-python",
   "name": "python",
   "nbconvert_exporter": "python",
   "pygments_lexer": "ipython3",
   "version": "3.6.4"
  }
 },
 "nbformat": 4,
 "nbformat_minor": 2
}
