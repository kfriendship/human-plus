{
 "cells": [
  {
   "cell_type": "code",
   "execution_count": 1,
   "metadata": {},
   "outputs": [],
   "source": [
    "# to read old Matlab format\n",
    "#from scipy.io import loadmat    \n",
    "#feature_onse_3s = loadmat('data/feature_onset_3s.mat')"
   ]
  },
  {
   "cell_type": "code",
   "execution_count": 32,
   "metadata": {},
   "outputs": [
    {
     "name": "stdout",
     "output_type": "stream",
     "text": [
      "Shape of the array feature_cor = \n",
      " (36, 1596)\n",
      "Shape of the array feature_incor = \n",
      " (8, 1596)\n"
     ]
    }
   ],
   "source": [
    "# v73 format is loaded by h5py\n",
    "import h5py\n",
    "import numpy as np\n",
    "\n",
    "featureFilename = \"data/feature_onset_3s.mat\"\n",
    "with h5py.File(featureFilename,'r') as hf:\n",
    "#    print('List of arrays in this file: \\n', hf.keys())\n",
    "    feature_cor = np.array(hf.get('WT_cor_onset_3s'))   #.transpose()   # DO NOT TRANSPOSE\n",
    "    print('Shape of the array feature_cor = \\n', feature_cor.shape)\n",
    "\n",
    "    feature_incor = np.array(hf.get('WT_incor_onset_3s'))   # .transpose()   # DO NOT TRANSPOSE\n",
    "    print('Shape of the array feature_incor = \\n', feature_incor.shape)\n",
    "\n",
    "    \n",
    "#    data = hf.get('dataset_1')\n",
    "#    np_data = np.array(data)\n",
    "    "
   ]
  },
  {
   "cell_type": "code",
   "execution_count": 16,
   "metadata": {},
   "outputs": [],
   "source": [
    "import matplotlib.pyplot as plt\n",
    "%matplotlib inline\n",
    "\n",
    "# plt.subplot(121)\n",
    "# plt.hist(feature_cor)\n",
    "# plt.subplot(122)\n",
    "# plt.hist(feature_incor)"
   ]
  },
  {
   "cell_type": "code",
   "execution_count": 33,
   "metadata": {},
   "outputs": [
    {
     "data": {
      "text/plain": [
       "(array([119., 150., 183., 146., 151., 155., 179., 158., 153., 202.]),\n",
       " array([0.00423202, 0.10380882, 0.20338561, 0.30296241, 0.40253921,\n",
       "        0.50211601, 0.60169281, 0.70126961, 0.8008464 , 0.9004232 ,\n",
       "        1.        ]),\n",
       " <a list of 10 Patch objects>)"
      ]
     },
     "execution_count": 33,
     "metadata": {},
     "output_type": "execute_result"
    },
    {
     "data": {
      "image/png": "[encoded data removed]",
      "text/plain": [
       "<Figure size 432x288 with 1 Axes>"
      ]
     },
     "metadata": {},
     "output_type": "display_data"
    }
   ],
   "source": [
    "# Calculate the Wilcoxon signed-rank test.\n",
    "# https://docs.scipy.org/doc/scipy/reference/generated/scipy.stats.ranksums.html\n",
    "\n",
    "from scipy.stats import ranksums\n",
    "\n",
    "numTrialCor, dimFeature = feature_cor.shape\n",
    "numTrialIncor, dimFeature = feature_incor.shape\n",
    "\n",
    "# for each channel*freq\n",
    "pVal = list()\n",
    "for i in range(dimFeature):\n",
    "    T, p = ranksums(feature_cor[:,i], feature_incor[:,i])\n",
    "    pVal.append(p)\n",
    "plt.hist(pVal)"
   ]
  },
  {
   "cell_type": "code",
   "execution_count": 34,
   "metadata": {},
   "outputs": [
    {
     "data": {
      "image/png": "[encoded data removed]",
      "text/plain": [
       "<Figure size 432x288 with 2 Axes>"
      ]
     },
     "metadata": {},
     "output_type": "display_data"
    }
   ],
   "source": [
    "pVal2D = np.reshape(pVal, (38, 42))\n",
    "idxSelectedFeature = pVal2D<0.05\n",
    "\n",
    "plt.subplot(121)\n",
    "plt.imshow(pVal2D)\n",
    "plt.gca().invert_yaxis()\n",
    "plt.subplot(122)\n",
    "plt.imshow(idxSelectedFeature, cmap='gray')\n",
    "plt.gca().invert_yaxis()"
   ]
  },
  {
   "cell_type": "code",
   "execution_count": 35,
   "metadata": {},
   "outputs": [
    {
     "name": "stdout",
     "output_type": "stream",
     "text": [
      "ch=3, freq=19\n",
      "ch=4, freq=36\n",
      "ch=4, freq=40\n",
      "ch=4, freq=44\n",
      "ch=7, freq=12\n",
      "ch=7, freq=13\n",
      "ch=9, freq=32\n",
      "ch=9, freq=52\n",
      "ch=9, freq=100\n",
      "ch=14, freq=100\n",
      "ch=17, freq=8\n",
      "ch=18, freq=80\n",
      "ch=18, freq=84\n",
      "ch=19, freq=2\n",
      "ch=19, freq=23\n",
      "ch=20, freq=36\n",
      "ch=20, freq=40\n",
      "ch=20, freq=44\n",
      "ch=20, freq=48\n",
      "ch=21, freq=32\n",
      "ch=21, freq=36\n",
      "ch=21, freq=40\n",
      "ch=21, freq=44\n",
      "ch=21, freq=48\n",
      "ch=21, freq=52\n",
      "ch=22, freq=40\n",
      "ch=22, freq=44\n",
      "ch=22, freq=48\n",
      "ch=22, freq=52\n",
      "ch=22, freq=56\n",
      "ch=22, freq=64\n",
      "ch=22, freq=68\n",
      "ch=22, freq=72\n",
      "ch=22, freq=76\n",
      "ch=22, freq=80\n",
      "ch=28, freq=19\n",
      "ch=28, freq=25\n",
      "ch=28, freq=27\n",
      "ch=28, freq=29\n",
      "ch=30, freq=5\n",
      "ch=31, freq=4\n",
      "ch=33, freq=4\n",
      "ch=36, freq=52\n",
      "ch=36, freq=56\n",
      "ch=41, freq=7\n",
      "[(2, 15), (3, 22), (3, 23), (3, 24), (6, 11), (6, 12), (8, 21), (8, 26), (8, 37), (13, 37), (16, 7), (17, 32), (17, 33), (18, 1), (18, 17), (19, 22), (19, 23), (19, 24), (19, 25), (20, 21), (20, 22), (20, 23), (20, 24), (20, 25), (20, 26), (21, 23), (21, 24), (21, 25), (21, 26), (21, 27), (21, 28), (21, 29), (21, 30), (21, 31), (21, 32), (27, 15), (27, 18), (27, 19), (27, 20), (29, 4), (30, 3), (32, 3), (35, 26), (35, 27), (40, 6)]\n",
      "45\n"
     ]
    }
   ],
   "source": [
    "# print selected channels\n",
    "Fs = [ 1,     2,     3,     4,     5,     6,     7,     8,     9,    10,    11,    12,    13,    15,\n",
    "    17,    19,    21,    23,    25,    27,    29,    32,    36,    40,    44,    48,    52,    56,\n",
    "    64,    68,    72,    76,    80,    84,    88,    92,    96,   100]\n",
    "#plt.imshow(range(42),Fs, pVal2D)\n",
    "listSelectedFeature = list()\n",
    "for ch in range(42):\n",
    "    for i in range(38):\n",
    "        if pVal2D[i][ch] < 0.05: #idxSelectedFeature[i,ch]:\n",
    "            print(\"ch={}, freq={}\".format(ch+1,Fs[i]))\n",
    "            listSelectedFeature.append((ch,i))\n",
    "print(listSelectedFeature)\n",
    "print(len(listSelectedFeature))"
   ]
  },
  {
   "cell_type": "code",
   "execution_count": 36,
   "metadata": {},
   "outputs": [],
   "source": [
    "# Now, select features \n",
    "idx=np.array(pVal)<0.05\n",
    "selected_feature_cor = feature_cor[:,idx]\n",
    "selected_feature_incor = feature_incor[:,idx]"
   ]
  },
  {
   "cell_type": "code",
   "execution_count": 37,
   "metadata": {},
   "outputs": [
    {
     "name": "stdout",
     "output_type": "stream",
     "text": [
      "(36, 45)\n",
      "(8, 45)\n"
     ]
    }
   ],
   "source": [
    "print(selected_feature_cor.shape)\n",
    "print(selected_feature_incor.shape)"
   ]
  },
  {
   "cell_type": "code",
   "execution_count": 39,
   "metadata": {},
   "outputs": [
    {
     "name": "stdout",
     "output_type": "stream",
     "text": [
      "[-2.56612913e-15 -3.98298917e-16 -1.56046262e-16  1.94289029e-15\n",
      "  4.94553893e-16 -3.43759112e-15  2.78186565e-16  1.54926577e-15\n",
      " -2.24504758e-15  2.29614307e-15  6.09613370e-15  1.28180295e-15\n",
      " -7.21644966e-16  7.56970244e-15  1.66533454e-15 -9.61352210e-16\n",
      "  4.78657518e-15 -2.19269047e-15 -1.44581317e-15  1.61581607e-15\n",
      "  1.58963751e-15  8.45283439e-16 -1.05092702e-15  3.16823588e-16\n",
      " -1.36254644e-16  2.22296928e-15  1.31208176e-15 -1.80663565e-15\n",
      " -1.03452600e-16 -8.73039015e-16 -4.49135678e-16  3.17927503e-16\n",
      "  1.23890797e-15  1.09003715e-15 -2.47276946e-15  7.03982327e-16\n",
      " -6.75595943e-16  1.78865761e-15 -4.51028104e-16  1.16384175e-15\n",
      " -4.18352222e-15  2.73045475e-15 -3.73438654e-16 -1.84779591e-15\n",
      "  1.01055528e-15]\n",
      "[1. 1. 1. 1. 1. 1. 1. 1. 1. 1. 1. 1. 1. 1. 1. 1. 1. 1. 1. 1. 1. 1. 1. 1.\n",
      " 1. 1. 1. 1. 1. 1. 1. 1. 1. 1. 1. 1. 1. 1. 1. 1. 1. 1. 1. 1. 1.]\n"
     ]
    }
   ],
   "source": [
    "# let's standardize data\n",
    "X = np.concatenate((selected_feature_cor, selected_feature_incor),axis=0)\n",
    "Y = np.append(np.ones(numTrialCor),-np.ones(numTrialIncor))\n",
    "\n",
    "from sklearn import preprocessing\n",
    "# http://scikit-learn.org/stable/modules/preprocessing.html\n",
    "X_scaled = preprocessing.scale(X)\n",
    "\n",
    "print(X_scaled.mean(axis=0))\n",
    "print(X_scaled.std(axis=0))"
   ]
  },
  {
   "cell_type": "code",
   "execution_count": 40,
   "metadata": {},
   "outputs": [
    {
     "data": {
      "text/plain": [
       "<matplotlib.image.AxesImage at 0x116ca3320>"
      ]
     },
     "execution_count": 40,
     "metadata": {},
     "output_type": "execute_result"
    },
    {
     "data": {
      "image/png": "[encoded data removed]",
      "text/plain": [
       "<Figure size 432x288 with 1 Axes>"
      ]
     },
     "metadata": {},
     "output_type": "display_data"
    }
   ],
   "source": [
    "plt.imshow(X_scaled)"
   ]
  },
  {
   "cell_type": "code",
   "execution_count": 41,
   "metadata": {},
   "outputs": [
    {
     "data": {
      "text/plain": [
       "<matplotlib.image.AxesImage at 0x11668cb70>"
      ]
     },
     "execution_count": 41,
     "metadata": {},
     "output_type": "execute_result"
    },
    {
     "data": {
      "image/png": "[encoded data removed]",
      "text/plain": [
       "<Figure size 432x288 with 2 Axes>"
      ]
     },
     "metadata": {},
     "output_type": "display_data"
    }
   ],
   "source": [
    "# compare mean\n",
    "plt.subplot(121)\n",
    "plt.imshow(X_scaled[Y>0,:])\n",
    "plt.subplot(122)\n",
    "plt.imshow(X_scaled[Y<0,:])"
   ]
  },
  {
   "cell_type": "code",
   "execution_count": 42,
   "metadata": {},
   "outputs": [],
   "source": [
    "# save to a file\n",
    "np.savetxt(\"X.txt\",X_scaled)   # 44x45\n",
    "np.savetxt(\"Y.txt\", Y)         # 44x1"
   ]
  },
  {
   "cell_type": "code",
   "execution_count": null,
   "metadata": {},
   "outputs": [],
   "source": []
  }
 ],
 "metadata": {
  "kernelspec": {
   "display_name": "Python 3",
   "language": "python",
   "name": "python3"
  },
  "language_info": {
   "codemirror_mode": {
    "name": "ipython",
    "version": 3
   },
   "file_extension": ".py",
   "mimetype": "text/x-python",
   "name": "python",
   "nbconvert_exporter": "python",
   "pygments_lexer": "ipython3",
   "version": "3.6.5"
  }
 },
 "nbformat": 4,
 "nbformat_minor": 2
}
