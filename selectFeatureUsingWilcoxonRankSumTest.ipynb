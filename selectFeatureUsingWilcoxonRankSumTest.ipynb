{
 "cells": [
  {
   "cell_type": "code",
   "execution_count": 1,
   "metadata": {},
   "outputs": [],
   "source": [
    "# to read old Matlab format\n",
    "#from scipy.io import loadmat    \n",
    "#feature_onse_3s = loadmat('data/feature_onset_3s.mat')"
   ]
  },
  {
   "cell_type": "code",
   "execution_count": 2,
   "metadata": {},
   "outputs": [
    {
     "name": "stdout",
     "output_type": "stream",
     "text": [
      "Shape of the array feature_cor = \n",
      " (36, 1596)\n",
      "Shape of the array feature_incor = \n",
      " (8, 1596)\n"
     ]
    }
   ],
   "source": [
    "# v73 format is loaded by h5py\n",
    "import h5py\n",
    "import numpy as np\n",
    "\n",
    "featureFilename = \"data/feature_onset_3s.mat\"\n",
    "with h5py.File(featureFilename,'r') as hf:\n",
    "    feature_cor = np.array(hf.get('WT_cor_onset_3s'))\n",
    "    print('Shape of the array feature_cor = \\n', feature_cor.shape)\n",
    "\n",
    "    feature_incor = np.array(hf.get('WT_incor_onset_3s'))\n",
    "    print('Shape of the array feature_incor = \\n', feature_incor.shape)\n"
   ]
  },
  {
   "cell_type": "code",
   "execution_count": 3,
   "metadata": {},
   "outputs": [
    {
     "data": {
      "text/plain": [
       "(array([119., 150., 183., 146., 151., 155., 179., 158., 153., 202.]),\n",
       " array([0.00423202, 0.10380882, 0.20338561, 0.30296241, 0.40253921,\n",
       "        0.50211601, 0.60169281, 0.70126961, 0.8008464 , 0.9004232 ,\n",
       "        1.        ]),\n",
       " <a list of 10 Patch objects>)"
      ]
     },
     "execution_count": 3,
     "metadata": {},
     "output_type": "execute_result"
    },
    {
     "data": {
      "image/png": "[encoded data removed]",
      "text/plain": [
       "<Figure size 432x288 with 1 Axes>"
      ]
     },
     "metadata": {},
     "output_type": "display_data"
    }
   ],
   "source": [
    "# Calculate the Wilcoxon signed-rank test.\n",
    "# https://docs.scipy.org/doc/scipy/reference/generated/scipy.stats.ranksums.html\n",
    "\n",
    "from scipy.stats import ranksums\n",
    "\n",
    "numTrialCor, dimFeature = feature_cor.shape\n",
    "numTrialIncor, dimFeature = feature_incor.shape\n",
    "\n",
    "# for each channel*freq\n",
    "pVal = list()\n",
    "for i in range(dimFeature):\n",
    "    T, p = ranksums(feature_cor[:,i], feature_incor[:,i])\n",
    "    pVal.append(p)\n",
    "    \n",
    "\n",
    "import matplotlib.pyplot as plt\n",
    "%matplotlib inline\n",
    "plt.hist(pVal)"
   ]
  },
  {
   "cell_type": "code",
   "execution_count": 4,
   "metadata": {},
   "outputs": [
    {
     "data": {
      "image/png": "[encoded data removed]",
      "text/plain": [
       "<Figure size 432x288 with 2 Axes>"
      ]
     },
     "metadata": {},
     "output_type": "display_data"
    }
   ],
   "source": [
    "pVal2D = np.reshape(pVal, (38, 42))\n",
    "idxSelectedFeature = pVal2D<0.05\n",
    "\n",
    "plt.subplot(121)\n",
    "plt.imshow(pVal2D)\n",
    "plt.gca().invert_yaxis()\n",
    "plt.subplot(122)\n",
    "plt.imshow(idxSelectedFeature, cmap='gray')\n",
    "plt.gca().invert_yaxis()"
   ]
  },
  {
   "cell_type": "code",
   "execution_count": 5,
   "metadata": {},
   "outputs": [
    {
     "name": "stdout",
     "output_type": "stream",
     "text": [
      "ch=1, freq=19\n",
      "ch=2, freq=19\n",
      "ch=3, freq=8\n",
      "ch=3, freq=17\n",
      "ch=3, freq=19\n",
      "ch=3, freq=40\n",
      "ch=3, freq=44\n",
      "ch=3, freq=48\n",
      "ch=4, freq=8\n",
      "ch=4, freq=21\n",
      "ch=4, freq=36\n",
      "ch=4, freq=40\n",
      "ch=4, freq=44\n",
      "ch=4, freq=48\n",
      "ch=5, freq=56\n",
      "ch=7, freq=12\n",
      "ch=7, freq=13\n",
      "ch=7, freq=64\n",
      "ch=8, freq=5\n",
      "ch=8, freq=27\n",
      "ch=8, freq=29\n",
      "ch=8, freq=32\n",
      "ch=9, freq=29\n",
      "ch=9, freq=32\n",
      "ch=9, freq=36\n",
      "ch=9, freq=44\n",
      "ch=9, freq=48\n",
      "ch=9, freq=52\n",
      "ch=9, freq=56\n",
      "ch=9, freq=72\n",
      "ch=9, freq=76\n",
      "ch=9, freq=80\n",
      "ch=9, freq=84\n",
      "ch=9, freq=88\n",
      "ch=9, freq=92\n",
      "ch=9, freq=96\n",
      "ch=9, freq=100\n",
      "ch=10, freq=1\n",
      "ch=10, freq=96\n",
      "ch=11, freq=1\n",
      "ch=11, freq=44\n",
      "ch=11, freq=48\n",
      "ch=12, freq=1\n",
      "ch=14, freq=7\n",
      "ch=14, freq=13\n",
      "ch=14, freq=96\n",
      "ch=14, freq=100\n",
      "ch=16, freq=1\n",
      "ch=17, freq=7\n",
      "ch=17, freq=8\n",
      "ch=17, freq=9\n",
      "ch=18, freq=76\n",
      "ch=18, freq=80\n",
      "ch=18, freq=84\n",
      "ch=18, freq=88\n",
      "ch=19, freq=2\n",
      "ch=19, freq=23\n",
      "ch=19, freq=25\n",
      "ch=20, freq=32\n",
      "ch=20, freq=36\n",
      "ch=20, freq=40\n",
      "ch=20, freq=44\n",
      "ch=20, freq=48\n",
      "ch=21, freq=32\n",
      "ch=21, freq=36\n",
      "ch=21, freq=40\n",
      "ch=21, freq=44\n",
      "ch=21, freq=48\n",
      "ch=21, freq=52\n",
      "ch=22, freq=40\n",
      "ch=22, freq=44\n",
      "ch=22, freq=48\n",
      "ch=22, freq=52\n",
      "ch=22, freq=56\n",
      "ch=22, freq=64\n",
      "ch=22, freq=68\n",
      "ch=22, freq=72\n",
      "ch=22, freq=76\n",
      "ch=22, freq=80\n",
      "ch=22, freq=84\n",
      "ch=22, freq=88\n",
      "ch=24, freq=2\n",
      "ch=25, freq=4\n",
      "ch=26, freq=4\n",
      "ch=28, freq=7\n",
      "ch=28, freq=19\n",
      "ch=28, freq=21\n",
      "ch=28, freq=23\n",
      "ch=28, freq=25\n",
      "ch=28, freq=27\n",
      "ch=28, freq=29\n",
      "ch=28, freq=52\n",
      "ch=28, freq=56\n",
      "ch=28, freq=64\n",
      "ch=30, freq=5\n",
      "ch=31, freq=4\n",
      "ch=33, freq=4\n",
      "ch=33, freq=29\n",
      "ch=33, freq=32\n",
      "ch=34, freq=100\n",
      "ch=36, freq=40\n",
      "ch=36, freq=44\n",
      "ch=36, freq=48\n",
      "ch=36, freq=52\n",
      "ch=36, freq=56\n",
      "ch=36, freq=64\n",
      "ch=36, freq=68\n",
      "ch=37, freq=12\n",
      "ch=39, freq=12\n",
      "ch=39, freq=68\n",
      "ch=41, freq=2\n",
      "ch=41, freq=7\n",
      "[(0, 15), (1, 15), (2, 7), (2, 14), (2, 15), (2, 23), (2, 24), (2, 25), (3, 7), (3, 16), (3, 22), (3, 23), (3, 24), (3, 25), (4, 27), (6, 11), (6, 12), (6, 28), (7, 4), (7, 19), (7, 20), (7, 21), (8, 20), (8, 21), (8, 22), (8, 24), (8, 25), (8, 26), (8, 27), (8, 30), (8, 31), (8, 32), (8, 33), (8, 34), (8, 35), (8, 36), (8, 37), (9, 0), (9, 36), (10, 0), (10, 24), (10, 25), (11, 0), (13, 6), (13, 12), (13, 36), (13, 37), (15, 0), (16, 6), (16, 7), (16, 8), (17, 31), (17, 32), (17, 33), (17, 34), (18, 1), (18, 17), (18, 18), (19, 21), (19, 22), (19, 23), (19, 24), (19, 25), (20, 21), (20, 22), (20, 23), (20, 24), (20, 25), (20, 26), (21, 23), (21, 24), (21, 25), (21, 26), (21, 27), (21, 28), (21, 29), (21, 30), (21, 31), (21, 32), (21, 33), (21, 34), (23, 1), (24, 3), (25, 3), (27, 6), (27, 15), (27, 16), (27, 17), (27, 18), (27, 19), (27, 20), (27, 26), (27, 27), (27, 28), (29, 4), (30, 3), (32, 3), (32, 20), (32, 21), (33, 37), (35, 23), (35, 24), (35, 25), (35, 26), (35, 27), (35, 28), (35, 29), (36, 11), (38, 11), (38, 29), (40, 1), (40, 6)]\n",
      "112\n"
     ]
    }
   ],
   "source": [
    "# print selected channels\n",
    "Fs = [ 1,     2,     3,     4,     5,     6,     7,     8,     9,    10,    11,    12,    13,    15,\n",
    "    17,    19,    21,    23,    25,    27,    29,    32,    36,    40,    44,    48,    52,    56,\n",
    "    64,    68,    72,    76,    80,    84,    88,    92,    96,   100]\n",
    "\n",
    "#pTh = 0.05\n",
    "pTh = 0.1 # increase a bit \n",
    "#pTh = 0.15 # increase more\n",
    "\n",
    "#plt.imshow(range(42),Fs, pVal2D)\n",
    "listSelectedFeature = list()\n",
    "for ch in range(42):\n",
    "    for i in range(38):\n",
    "        if pVal2D[i][ch] < pTh: #idxSelectedFeature[i,ch]:\n",
    "            print(\"ch={}, freq={}\".format(ch+1,Fs[i]))\n",
    "            listSelectedFeature.append((ch,i))\n",
    "print(listSelectedFeature)\n",
    "print(len(listSelectedFeature))"
   ]
  },
  {
   "cell_type": "code",
   "execution_count": 6,
   "metadata": {},
   "outputs": [],
   "source": [
    "# Now, select features \n",
    "idx=np.array(pVal)<pTh\n",
    "selected_feature_cor = feature_cor[:,idx]\n",
    "selected_feature_incor = feature_incor[:,idx]"
   ]
  },
  {
   "cell_type": "code",
   "execution_count": 7,
   "metadata": {},
   "outputs": [
    {
     "name": "stdout",
     "output_type": "stream",
     "text": [
      "(36, 112)\n",
      "(8, 112)\n"
     ]
    }
   ],
   "source": [
    "print(selected_feature_cor.shape)\n",
    "print(selected_feature_incor.shape)"
   ]
  },
  {
   "cell_type": "code",
   "execution_count": 8,
   "metadata": {},
   "outputs": [
    {
     "name": "stdout",
     "output_type": "stream",
     "text": [
      "[ 7.54447010e-16  5.17263000e-16  2.24820162e-15  7.11552029e-16\n",
      " -2.56612913e-15 -1.66028807e-15 -2.62416351e-16 -3.67382892e-15\n",
      " -1.39408687e-15 -3.98298917e-16 -1.56046262e-16 -1.95550646e-16\n",
      "  1.94289029e-15  3.06825272e-15 -3.22973971e-16  1.54674253e-15\n",
      "  4.94553893e-16 -2.94272182e-15 -1.75869420e-15 -3.43759112e-15\n",
      "  6.18192366e-16  2.78186565e-16  7.91033905e-16 -7.46877307e-16\n",
      "  1.54926577e-15  1.74355480e-15 -8.70515781e-17 -2.37940980e-15\n",
      " -9.75229998e-16 -2.24504758e-15  2.29614307e-15 -5.09693298e-16\n",
      " -5.77820620e-16  6.09613370e-15 -3.22217001e-15  3.95643114e-15\n",
      "  1.28180295e-15  1.43256619e-15 -7.21644966e-16  8.60422844e-16\n",
      "  1.75995582e-15  7.56970244e-15 -2.64182615e-15 -1.97316910e-15\n",
      "  1.66533454e-15 -1.91765795e-16 -9.61352210e-16 -6.67395432e-16\n",
      "  4.78657518e-15 -2.67462820e-16 -2.19269047e-15 -1.44581317e-15\n",
      "  3.97409378e-16  1.61581607e-15  1.58963751e-15  8.45283439e-16\n",
      " -1.05092702e-15 -2.56108266e-16  9.03317825e-16  3.16823588e-16\n",
      "  8.90701654e-16  1.51646372e-15 -1.36254644e-16  2.22296928e-15\n",
      "  1.31208176e-15 -2.81340607e-15 -1.08751392e-15 -8.97640548e-16\n",
      " -9.68921912e-16 -3.16161239e-15 -1.80663565e-15 -1.03452600e-16\n",
      " -8.73039015e-16  4.51658912e-15 -4.49135678e-16  3.17927503e-16\n",
      "  1.23890797e-15  1.99840144e-15  1.09003715e-15  3.13890328e-15\n",
      " -4.41565976e-17 -2.47276946e-15 -7.01459093e-16  7.03982327e-16\n",
      " -6.34908792e-16 -6.75595943e-16  2.29109661e-15  2.26334103e-15\n",
      "  1.78865761e-15 -2.78312726e-15 -6.32306707e-16 -1.41679597e-15\n",
      " -4.51028104e-16  9.91631020e-16  1.47356874e-15  1.16384175e-15\n",
      " -6.50994410e-16 -4.18352222e-15  2.73045475e-15 -1.56692841e-15\n",
      " -3.73438654e-16 -1.99540510e-15 -2.98498600e-15 -1.27423324e-15\n",
      "  1.01118608e-15  1.13797860e-15  1.32469793e-15 -4.74368020e-16\n",
      "  3.38618023e-15 -1.84779591e-15  1.01055528e-15  1.51267887e-15]\n",
      "[1. 1. 1. 1. 1. 1. 1. 1. 1. 1. 1. 1. 1. 1. 1. 1. 1. 1. 1. 1. 1. 1. 1. 1.\n",
      " 1. 1. 1. 1. 1. 1. 1. 1. 1. 1. 1. 1. 1. 1. 1. 1. 1. 1. 1. 1. 1. 1. 1. 1.\n",
      " 1. 1. 1. 1. 1. 1. 1. 1. 1. 1. 1. 1. 1. 1. 1. 1. 1. 1. 1. 1. 1. 1. 1. 1.\n",
      " 1. 1. 1. 1. 1. 1. 1. 1. 1. 1. 1. 1. 1. 1. 1. 1. 1. 1. 1. 1. 1. 1. 1. 1.\n",
      " 1. 1. 1. 1. 1. 1. 1. 1. 1. 1. 1. 1. 1. 1. 1. 1.]\n"
     ]
    }
   ],
   "source": [
    "# let's standardize data\n",
    "X = np.concatenate((selected_feature_cor, selected_feature_incor),axis=0)\n",
    "Y = np.append(np.ones(numTrialCor),-np.ones(numTrialIncor))\n",
    "\n",
    "from sklearn import preprocessing\n",
    "# http://scikit-learn.org/stable/modules/preprocessing.html\n",
    "X_scaled = preprocessing.scale(X)\n",
    "\n",
    "print(X_scaled.mean(axis=0))\n",
    "print(X_scaled.std(axis=0))"
   ]
  },
  {
   "cell_type": "code",
   "execution_count": 9,
   "metadata": {},
   "outputs": [
    {
     "data": {
      "text/plain": [
       "<matplotlib.image.AxesImage at 0x10c768f28>"
      ]
     },
     "execution_count": 9,
     "metadata": {},
     "output_type": "execute_result"
    },
    {
     "data": {
      "image/png": "[encoded data removed]",
      "text/plain": [
       "<Figure size 432x288 with 1 Axes>"
      ]
     },
     "metadata": {},
     "output_type": "display_data"
    }
   ],
   "source": [
    "plt.imshow(X_scaled)"
   ]
  },
  {
   "cell_type": "code",
   "execution_count": 10,
   "metadata": {},
   "outputs": [
    {
     "data": {
      "text/plain": [
       "<matplotlib.image.AxesImage at 0x10c97aa58>"
      ]
     },
     "execution_count": 10,
     "metadata": {},
     "output_type": "execute_result"
    },
    {
     "data": {
      "image/png": "[encoded data removed]",
      "text/plain": [
       "<Figure size 432x288 with 2 Axes>"
      ]
     },
     "metadata": {},
     "output_type": "display_data"
    }
   ],
   "source": [
    "# compare mean\n",
    "plt.subplot(121)\n",
    "plt.imshow(X_scaled[Y>0,:])\n",
    "plt.subplot(122)\n",
    "plt.imshow(X_scaled[Y<0,:])"
   ]
  },
  {
   "cell_type": "code",
   "execution_count": 11,
   "metadata": {},
   "outputs": [],
   "source": [
    "# save to a file\n",
    "np.savetxt(\"WT_3s_X_p{}.txt\".format(pTh),X)   # 44x45\n",
    "np.savetxt(\"WT_3s_X_scaled_p{}.txt\".format(pTh),X_scaled)   # 44x45\n",
    "np.savetxt(\"WT_3s_Y_p{}.txt\".format(pTh), Y)         # 44x1\n",
    "\n",
    "# copy these files to data/"
   ]
  },
  {
   "cell_type": "code",
   "execution_count": null,
   "metadata": {},
   "outputs": [],
   "source": []
  }
 ],
 "metadata": {
  "kernelspec": {
   "display_name": "Python 3",
   "language": "python",
   "name": "python3"
  },
  "language_info": {
   "codemirror_mode": {
    "name": "ipython",
    "version": 3
   },
   "file_extension": ".py",
   "mimetype": "text/x-python",
   "name": "python",
   "nbconvert_exporter": "python",
   "pygments_lexer": "ipython3",
   "version": "3.6.5"
  }
 },
 "nbformat": 4,
 "nbformat_minor": 2
}
