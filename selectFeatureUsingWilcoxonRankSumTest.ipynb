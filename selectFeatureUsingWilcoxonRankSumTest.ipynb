{
 "cells": [
  {
   "cell_type": "code",
   "execution_count": 1,
   "metadata": {},
   "outputs": [],
   "source": [
    "# to read old Matlab format\n",
    "#from scipy.io import loadmat    \n",
    "#feature_onse_3s = loadmat('data/feature_onset_3s.mat')"
   ]
  },
  {
   "cell_type": "code",
   "execution_count": 2,
   "metadata": {},
   "outputs": [
    {
     "name": "stdout",
     "output_type": "stream",
     "text": [
      "Shape of the array feature_cor = \n",
      " (1596, 36)\n",
      "Shape of the array feature_incor = \n",
      " (1596, 8)\n"
     ]
    }
   ],
   "source": [
    "# v73 format is loaded by h5py\n",
    "import h5py\n",
    "import numpy as np\n",
    "\n",
    "featureFilename = \"data/feature_onset_3s.mat\"\n",
    "with h5py.File(featureFilename,'r') as hf:\n",
    "#    print('List of arrays in this file: \\n', hf.keys())\n",
    "    feature_cor = np.array(hf.get('WT_cor_onset_3s')).transpose()\n",
    "    print('Shape of the array feature_cor = \\n', feature_cor.shape)\n",
    "\n",
    "    feature_incor = np.array(hf.get('WT_incor_onset_3s')).transpose()\n",
    "    print('Shape of the array feature_incor = \\n', feature_incor.shape)\n",
    "\n",
    "    \n",
    "#    data = hf.get('dataset_1')\n",
    "#    np_data = np.array(data)\n",
    "    "
   ]
  },
  {
   "cell_type": "code",
   "execution_count": 3,
   "metadata": {},
   "outputs": [
    {
     "data": {
      "text/plain": [
       "([array([ 12.,  96., 235., 449., 417., 236.,  95.,  39.,  13.,   4.]),\n",
       "  array([ 11., 100., 242., 461., 427., 227.,  92.,  25.,  10.,   1.]),\n",
       "  array([  8.,  71., 196., 414., 469., 299.,  76.,  51.,  10.,   2.]),\n",
       "  array([ 18.,  97., 236., 405., 361., 253., 113.,  92.,  18.,   3.]),\n",
       "  array([ 29., 109., 216., 475., 389., 215., 113.,  35.,   9.,   6.]),\n",
       "  array([ 20.,  94., 261., 468., 438., 199.,  75.,  25.,  11.,   5.]),\n",
       "  array([ 33., 113., 248., 428., 361., 222., 116.,  57.,  17.,   1.]),\n",
       "  array([ 27., 106., 277., 429., 440., 220.,  63.,  24.,   9.,   1.])],\n",
       " array([ 9.86031879, 14.6409511 , 19.42158341, 24.20221571, 28.98284802,\n",
       "        33.76348033, 38.54411264, 43.32474494, 48.10537725, 52.88600956,\n",
       "        57.66664186]),\n",
       " <a list of 8 Lists of Patches objects>)"
      ]
     },
     "execution_count": 3,
     "metadata": {},
     "output_type": "execute_result"
    },
    {
     "data": {
      "image/png": "[encoded data removed]",
      "text/plain": [
       "<Figure size 432x288 with 2 Axes>"
      ]
     },
     "metadata": {},
     "output_type": "display_data"
    }
   ],
   "source": [
    "import matplotlib.pyplot as plt\n",
    "%matplotlib inline\n",
    "\n",
    "plt.subplot(121)\n",
    "plt.hist(feature_cor)\n",
    "plt.subplot(122)\n",
    "plt.hist(feature_incor)"
   ]
  },
  {
   "cell_type": "code",
   "execution_count": 4,
   "metadata": {},
   "outputs": [
    {
     "data": {
      "text/plain": [
       "(array([119., 150., 183., 146., 151., 155., 179., 158., 153., 202.]),\n",
       " array([0.00423202, 0.10380882, 0.20338561, 0.30296241, 0.40253921,\n",
       "        0.50211601, 0.60169281, 0.70126961, 0.8008464 , 0.9004232 ,\n",
       "        1.        ]),\n",
       " <a list of 10 Patch objects>)"
      ]
     },
     "execution_count": 4,
     "metadata": {},
     "output_type": "execute_result"
    },
    {
     "data": {
      "image/png": "[encoded data removed]",
      "text/plain": [
       "<Figure size 432x288 with 1 Axes>"
      ]
     },
     "metadata": {},
     "output_type": "display_data"
    }
   ],
   "source": [
    "# Calculate the Wilcoxon signed-rank test.\n",
    "# https://docs.scipy.org/doc/scipy/reference/generated/scipy.stats.ranksums.html\n",
    "\n",
    "from scipy.stats import ranksums\n",
    "\n",
    "dimFeature, numTrialCor = feature_cor.shape\n",
    "dimFeature, numTrialIncor = feature_incor.shape\n",
    "\n",
    "# for each channel*freq\n",
    "pVal = list()\n",
    "for i in range(dimFeature):\n",
    "    T, p = ranksums(feature_cor[i,:], feature_incor[i,:])\n",
    "    pVal.append(p)\n",
    "plt.hist(pVal)"
   ]
  },
  {
   "cell_type": "code",
   "execution_count": 5,
   "metadata": {},
   "outputs": [
    {
     "data": {
      "image/png": "[encoded data removed]",
      "text/plain": [
       "<Figure size 432x288 with 2 Axes>"
      ]
     },
     "metadata": {},
     "output_type": "display_data"
    }
   ],
   "source": [
    "pVal2D = np.reshape(pVal, (38, 42))\n",
    "idxSelectedFeature = pVal2D<0.05\n",
    "\n",
    "plt.subplot(121)\n",
    "plt.imshow(pVal2D)\n",
    "plt.gca().invert_yaxis()\n",
    "plt.subplot(122)\n",
    "plt.imshow(idxSelectedFeature, cmap='gray')\n",
    "plt.gca().invert_yaxis()"
   ]
  },
  {
   "cell_type": "code",
   "execution_count": 6,
   "metadata": {},
   "outputs": [
    {
     "name": "stdout",
     "output_type": "stream",
     "text": [
      "ch=3, freq=19\n",
      "ch=4, freq=36\n",
      "ch=4, freq=40\n",
      "ch=4, freq=44\n",
      "ch=7, freq=12\n",
      "ch=7, freq=13\n",
      "ch=9, freq=32\n",
      "ch=9, freq=52\n",
      "ch=9, freq=100\n",
      "ch=14, freq=100\n",
      "ch=17, freq=8\n",
      "ch=18, freq=80\n",
      "ch=18, freq=84\n",
      "ch=19, freq=2\n",
      "ch=19, freq=23\n",
      "ch=20, freq=36\n",
      "ch=20, freq=40\n",
      "ch=20, freq=44\n",
      "ch=20, freq=48\n",
      "ch=21, freq=32\n",
      "ch=21, freq=36\n",
      "ch=21, freq=40\n",
      "ch=21, freq=44\n",
      "ch=21, freq=48\n",
      "ch=21, freq=52\n",
      "ch=22, freq=40\n",
      "ch=22, freq=44\n",
      "ch=22, freq=48\n",
      "ch=22, freq=52\n",
      "ch=22, freq=56\n",
      "ch=22, freq=64\n",
      "ch=22, freq=68\n",
      "ch=22, freq=72\n",
      "ch=22, freq=76\n",
      "ch=22, freq=80\n",
      "ch=28, freq=19\n",
      "ch=28, freq=25\n",
      "ch=28, freq=27\n",
      "ch=28, freq=29\n",
      "ch=30, freq=5\n",
      "ch=31, freq=4\n",
      "ch=33, freq=4\n",
      "ch=36, freq=52\n",
      "ch=36, freq=56\n",
      "ch=41, freq=7\n",
      "[(2, 15), (3, 22), (3, 23), (3, 24), (6, 11), (6, 12), (8, 21), (8, 26), (8, 37), (13, 37), (16, 7), (17, 32), (17, 33), (18, 1), (18, 17), (19, 22), (19, 23), (19, 24), (19, 25), (20, 21), (20, 22), (20, 23), (20, 24), (20, 25), (20, 26), (21, 23), (21, 24), (21, 25), (21, 26), (21, 27), (21, 28), (21, 29), (21, 30), (21, 31), (21, 32), (27, 15), (27, 18), (27, 19), (27, 20), (29, 4), (30, 3), (32, 3), (35, 26), (35, 27), (40, 6)]\n",
      "45\n"
     ]
    }
   ],
   "source": [
    "# print selected channels\n",
    "Fs = [ 1,     2,     3,     4,     5,     6,     7,     8,     9,    10,    11,    12,    13,    15,\n",
    "    17,    19,    21,    23,    25,    27,    29,    32,    36,    40,    44,    48,    52,    56,\n",
    "    64,    68,    72,    76,    80,    84,    88,    92,    96,   100]\n",
    "#plt.imshow(range(42),Fs, pVal2D)\n",
    "listSelectedFeature = list()\n",
    "for ch in range(42):\n",
    "    for i in range(38):\n",
    "        if pVal2D[i][ch] < 0.05: #idxSelectedFeature[i,ch]:\n",
    "            print(\"ch={}, freq={}\".format(ch+1,Fs[i]))\n",
    "            listSelectedFeature.append((ch,i))\n",
    "print(listSelectedFeature)\n",
    "print(len(listSelectedFeature))"
   ]
  },
  {
   "cell_type": "code",
   "execution_count": 7,
   "metadata": {},
   "outputs": [],
   "source": [
    "# Now, select features \n",
    "\n",
    "idx=np.array(pVal)<0.05\n",
    "selected_feature_cor = feature_cor[idx,:]\n",
    "selected_feature_incor = feature_incor[idx,:]"
   ]
  },
  {
   "cell_type": "code",
   "execution_count": 8,
   "metadata": {},
   "outputs": [
    {
     "name": "stdout",
     "output_type": "stream",
     "text": [
      "(45, 36)\n",
      "(45, 8)\n"
     ]
    }
   ],
   "source": [
    "print(selected_feature_cor.shape)\n",
    "print(selected_feature_incor.shape)"
   ]
  },
  {
   "cell_type": "code",
   "execution_count": 9,
   "metadata": {},
   "outputs": [
    {
     "name": "stdout",
     "output_type": "stream",
     "text": [
      "[ 1.08061708e-15 -6.31593543e-16  1.40134817e-15  3.35534070e-16\n",
      " -1.48029737e-17  4.83563806e-16  7.59885981e-16 -9.86864911e-17\n",
      "  1.00166788e-15  8.38835174e-16 -1.82570008e-16  2.17110280e-16\n",
      " -1.12502600e-15  7.45083008e-16 -2.26978929e-16 -7.99360578e-16\n",
      "  5.82250297e-16  5.08235429e-16 -5.52644350e-16 -2.22044605e-16\n",
      " -2.29939524e-15  1.23358114e-16 -1.12502600e-15  1.08555140e-16\n",
      " -1.32239898e-15  1.77635684e-16  1.67767035e-16 -8.88178420e-17\n",
      " -9.86864911e-16 -7.79623280e-16 -9.17784367e-16 -6.95739762e-16\n",
      "  4.14483263e-16 -9.42455990e-16 -1.33226763e-16 -1.08555140e-15\n",
      "  7.00674087e-16 -1.63819575e-15  1.55924656e-15  3.30599745e-16\n",
      " -1.27799006e-15  5.32907052e-16 -2.96059473e-16  3.25665421e-16]\n",
      "[1. 1. 1. 1. 1. 1. 1. 1. 1. 1. 1. 1. 1. 1. 1. 1. 1. 1. 1. 1. 1. 1. 1. 1.\n",
      " 1. 1. 1. 1. 1. 1. 1. 1. 1. 1. 1. 1. 1. 1. 1. 1. 1. 1. 1. 1.]\n"
     ]
    }
   ],
   "source": [
    "# let's standardize data\n",
    "X = np.concatenate((selected_feature_cor, selected_feature_incor),axis=1)\n",
    "Y = np.append(np.ones(numTrialCor),-np.ones(numTrialIncor))\n",
    "\n",
    "from sklearn import preprocessing\n",
    "# http://scikit-learn.org/stable/modules/preprocessing.html\n",
    "X_scaled = preprocessing.scale(X)\n",
    "\n",
    "print(X_scaled.mean(axis=0))\n",
    "print(X_scaled.std(axis=0))"
   ]
  },
  {
   "cell_type": "code",
   "execution_count": 10,
   "metadata": {},
   "outputs": [
    {
     "data": {
      "text/plain": [
       "<matplotlib.image.AxesImage at 0x11280fe80>"
      ]
     },
     "execution_count": 10,
     "metadata": {},
     "output_type": "execute_result"
    },
    {
     "data": {
      "image/png": "[encoded data removed]",
      "text/plain": [
       "<Figure size 432x288 with 1 Axes>"
      ]
     },
     "metadata": {},
     "output_type": "display_data"
    }
   ],
   "source": [
    "plt.imshow(X_scaled)"
   ]
  },
  {
   "cell_type": "code",
   "execution_count": 11,
   "metadata": {},
   "outputs": [
    {
     "data": {
      "text/plain": [
       "<matplotlib.image.AxesImage at 0x11254c898>"
      ]
     },
     "execution_count": 11,
     "metadata": {},
     "output_type": "execute_result"
    },
    {
     "data": {
      "image/png": "[encoded data removed]",
      "text/plain": [
       "<Figure size 432x288 with 2 Axes>"
      ]
     },
     "metadata": {},
     "output_type": "display_data"
    }
   ],
   "source": [
    "# compare mean\n",
    "plt.subplot(121)\n",
    "plt.imshow(X_scaled[:,Y>0])\n",
    "plt.subplot(122)\n",
    "plt.imshow(X_scaled[:,Y<0])"
   ]
  },
  {
   "cell_type": "code",
   "execution_count": 12,
   "metadata": {},
   "outputs": [],
   "source": [
    "# save to a file\n",
    "np.savetxt(\"X.txt\",X_scaled)   # 45x44\n",
    "np.savetxt(\"Y.txt\", Y)         # 44x1"
   ]
  },
  {
   "cell_type": "code",
   "execution_count": null,
   "metadata": {},
   "outputs": [],
   "source": []
  }
 ],
 "metadata": {
  "kernelspec": {
   "display_name": "Python 3",
   "language": "python",
   "name": "python3"
  },
  "language_info": {
   "codemirror_mode": {
    "name": "ipython",
    "version": 3
   },
   "file_extension": ".py",
   "mimetype": "text/x-python",
   "name": "python",
   "nbconvert_exporter": "python",
   "pygments_lexer": "ipython3",
   "version": "3.6.5"
  }
 },
 "nbformat": 4,
 "nbformat_minor": 2
}
