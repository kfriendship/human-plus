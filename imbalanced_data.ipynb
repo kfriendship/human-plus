{
 "cells": [
  {
   "cell_type": "code",
   "execution_count": 1,
   "metadata": {},
   "outputs": [],
   "source": [
    "import numpy as np\n",
    "import matplotlib.pyplot as plt\n",
    "%matplotlib inline"
   ]
  },
  {
   "cell_type": "markdown",
   "metadata": {},
   "source": [
    "## simple 1-dim example"
   ]
  },
  {
   "cell_type": "code",
   "execution_count": 31,
   "metadata": {},
   "outputs": [
    {
     "name": "stdout",
     "output_type": "stream",
     "text": [
      "-2.1272618733478437\n",
      "0.9857782467697939\n",
      "2.293278568802684\n",
      "0.7380877178235068\n"
     ]
    },
    {
     "data": {
      "text/plain": [
       "(array([12., 13., 31., 27., 11.,  6.,  1.,  5.,  9., 10.]),\n",
       " array([-4.20263271, -3.44877573, -2.69491876, -1.94106178, -1.18720481,\n",
       "        -0.43334783,  0.32050914,  1.07436611,  1.82822309,  2.58208006,\n",
       "         3.33593704]),\n",
       " <a list of 10 Patch objects>)"
      ]
     },
     "execution_count": 31,
     "metadata": {},
     "output_type": "execute_result"
    },
    {
     "data": {
      "image/png": "[encoded data removed]",
      "text/plain": [
       "<Figure size 432x288 with 1 Axes>"
      ]
     },
     "metadata": {},
     "output_type": "display_data"
    }
   ],
   "source": [
    "n1 = 100\n",
    "n2 = 25\n",
    "\n",
    "# generate 100 samples with mean -2\n",
    "X1 = np.random.randn(n1)-2   \n",
    "Y1 = np.tile(1,n1)\n",
    "# generate 10 samples with 2\n",
    "X2 = np.random.randn(n2)+2   \n",
    "Y2 = np.tile(1,n2)\n",
    "\n",
    "# sample means and stds\n",
    "print(np.mean(X1))\n",
    "print(np.std(X1))\n",
    "print(np.mean(X2))\n",
    "print(np.std(X2))\n",
    "\n",
    "# combine \n",
    "X = np.append(X1,X2)\n",
    "Y = np.append(Y1,Y2)\n",
    "plt.hist(X)"
   ]
  },
  {
   "cell_type": "markdown",
   "metadata": {},
   "source": [
    "## 2-dim example"
   ]
  },
  {
   "cell_type": "code",
   "execution_count": 55,
   "metadata": {},
   "outputs": [
    {
     "data": {
      "text/plain": [
       "<matplotlib.collections.PathCollection at 0x105306be0>"
      ]
     },
     "execution_count": 55,
     "metadata": {},
     "output_type": "execute_result"
    },
    {
     "data": {
      "image/png": "[encoded data removed]",
      "text/plain": [
       "<Figure size 432x288 with 1 Axes>"
      ]
     },
     "metadata": {},
     "output_type": "display_data"
    }
   ],
   "source": [
    "\n",
    "mu1=(-2,0)\n",
    "cov1 = ((1,0),(0,1))\n",
    "mu2=(2,0)\n",
    "cov2 = ((1,0),(0,1))\n",
    "\n",
    "X1=np.random.multivariate_normal(mu1,cov1,n1)\n",
    "X2=np.random.multivariate_normal(mu2,cov2,n2)\n",
    "X1.shape\n",
    "X = np.concatenate((X1,X2),axis=0)\n",
    "X.shape\n",
    "\n",
    "Y1 = np.tile(1,n1)\n",
    "Y2 = np.tile(1,n2)\n",
    "Y = np.concatenate((Y1,Y2),axis=0)\n",
    "\n",
    "#plt.scatter(X[:,0],X[:,1])\n",
    "plt.scatter(X1[:,0],X1[:,1],c=(1,0,0))\n",
    "plt.scatter(X2[:,0],X2[:,1],c=(0,0,1))\n"
   ]
  },
  {
   "cell_type": "markdown",
   "metadata": {},
   "source": [
    "## generating data using scikit function [`make_classification`](http://scikit-learn.org/stable/modules/generated/sklearn.datasets.make_classification.html)\n",
    "    "
   ]
  },
  {
   "cell_type": "code",
   "execution_count": 67,
   "metadata": {},
   "outputs": [
    {
     "data": {
      "text/plain": [
       "<matplotlib.collections.PathCollection at 0x1076f15c0>"
      ]
     },
     "execution_count": 67,
     "metadata": {},
     "output_type": "execute_result"
    },
    {
     "data": {
      "image/png": "[encoded data removed]",
      "text/plain": [
       "<Figure size 432x288 with 1 Axes>"
      ]
     },
     "metadata": {},
     "output_type": "display_data"
    }
   ],
   "source": [
    "from sklearn.datasets import make_classification\n",
    "\n",
    "n_samples = 100\n",
    "n_classes = 2\n",
    "n_clusters_per_class = 1\n",
    "weights=(0.01, 0.98)\n",
    "class_sep=0.8\n",
    "X, Y = make_classification(n_samples=n_samples, n_features=2,\n",
    "                               n_informative=2, n_redundant=0, n_repeated=0,\n",
    "                               n_classes=n_classes,\n",
    "                               n_clusters_per_class=n_clusters_per_class,\n",
    "                               weights=list(weights),\n",
    "                               class_sep=class_sep, random_state=0)\n",
    "\n",
    "plt.scatter(X[:,0],X[:,1])"
   ]
  },
  {
   "cell_type": "code",
   "execution_count": null,
   "metadata": {},
   "outputs": [],
   "source": []
  }
 ],
 "metadata": {
  "kernelspec": {
   "display_name": "Python 3",
   "language": "python",
   "name": "python3"
  },
  "language_info": {
   "codemirror_mode": {
    "name": "ipython",
    "version": 3
   },
   "file_extension": ".py",
   "mimetype": "text/x-python",
   "name": "python",
   "nbconvert_exporter": "python",
   "pygments_lexer": "ipython3",
   "version": "3.6.4"
  }
 },
 "nbformat": 4,
 "nbformat_minor": 2
}
