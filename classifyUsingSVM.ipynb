{
 "cells": [
  {
   "cell_type": "code",
   "execution_count": 49,
   "metadata": {},
   "outputs": [
    {
     "name": "stdout",
     "output_type": "stream",
     "text": [
      "(44, 112)\n",
      "(44, 112)\n",
      "(44,)\n",
      "0.7777777777777778\n"
     ]
    }
   ],
   "source": [
    "# load selected feature\n",
    "import numpy as np\n",
    "\n",
    "\n",
    "# for p < 0.05\n",
    "# X=np.loadtxt(\"data/WT_3s_X_p0.05.txt\")\n",
    "# X_scaled=np.loadtxt(\"data/WT_3s_X_scaled_p0.05.txt\")\n",
    "# Y=np.loadtxt(\"data/WT_3s_Y_p0.05.txt\")\n",
    "\n",
    "# ## for p < 0.1\n",
    "pTh=0.1\n",
    "X=np.loadtxt(\"data/WT_3s_X_p0.1.txt\")\n",
    "X_scaled=np.loadtxt(\"data/WT_3s_X_scaled_p0.1.txt\")\n",
    "Y=np.loadtxt(\"data/WT_3s_Y_p0.1.txt\")\n",
    "listSelectedFeature = np.loadtxt(\"listSelectedFeature_p{}.txt\".format(pTh))\n",
    "\n",
    "\n",
    "\n",
    "\n",
    "# # for p < 0.15\n",
    "# X=np.loadtxt(\"data/WT_3s_X_p0.15.txt\")\n",
    "# X_scaled=np.loadtxt(\"data/WT_3s_X_scaled_p0.15.txt\")\n",
    "# Y=np.loadtxt(\"data/WT_3s_Y_p0.15.txt\")\n",
    "\n",
    "\n",
    "print(X.shape)\n",
    "print(X_scaled.shape)\n",
    "print(Y.shape)\n",
    "\n",
    "#baseAcc = np.mean(Y==1) # this is baseline\n",
    "baseAcc = 7/9\n",
    "print(baseAcc)"
   ]
  },
  {
   "cell_type": "markdown",
   "metadata": {},
   "source": [
    "## Scaling matters!"
   ]
  },
  {
   "cell_type": "code",
   "execution_count": 18,
   "metadata": {},
   "outputs": [
    {
     "name": "stdout",
     "output_type": "stream",
     "text": [
      "1.0\n",
      "0.0\n",
      "1.0\n",
      "0.0\n"
     ]
    }
   ],
   "source": [
    "## Let's start from linear SVM \n",
    "from sklearn.svm import LinearSVC\n",
    "# http://scikit-learn.org/stable/modules/generated/sklearn.svm.LinearSVC.html\n",
    "from sklearn import svm\n",
    "\n",
    "##  without scaling!\n",
    "clf = svm.LinearSVC(C=10, loss=\"hinge\",  random_state=42)  # class_weight='balanced',\n",
    "\n",
    "clf.fit(X,Y)\n",
    "\n",
    "# training classfication error\n",
    "Yhat = clf.predict(X)\n",
    "print(np.mean(Y==Yhat))\n",
    "print(np.std(Y==Yhat))\n",
    "\n",
    "\n",
    "\n",
    "## with scaling\n",
    "from sklearn.pipeline import Pipeline\n",
    "from sklearn.preprocessing import StandardScaler\n",
    "\n",
    "clf = Pipeline([\n",
    "        (\"scaler\", StandardScaler()),\n",
    "        (\"linear_svc\", LinearSVC(C=10, loss=\"hinge\", random_state=42)), # class_weight='balanced', \n",
    "    ])\n",
    "\n",
    "clf.fit(X,Y)\n",
    "\n",
    "# training classfication error\n",
    "Yhat = clf.predict(X)\n",
    "print(np.mean(Y==Yhat))\n",
    "print(np.std(Y==Yhat))\n",
    "\n",
    "## SCALING IS IMPORTANT!"
   ]
  },
  {
   "cell_type": "markdown",
   "metadata": {},
   "source": [
    "## Let's do cross-validation"
   ]
  },
  {
   "cell_type": "code",
   "execution_count": 19,
   "metadata": {},
   "outputs": [
    {
     "name": "stdout",
     "output_type": "stream",
     "text": [
      "[0.7  1.   1.   1.   0.75]\n",
      "Accuracy: 0.89 (+/- 0.27)\n"
     ]
    }
   ],
   "source": [
    "## cross validation\n",
    "from sklearn.model_selection import cross_val_score\n",
    "from sklearn import svm\n",
    "\n",
    "# linear classifier\n",
    "clf = Pipeline([\n",
    "        (\"scaler\", StandardScaler()),\n",
    "        (\"linear_svc\", LinearSVC(C=10, loss=\"hinge\",  random_state=42)), # class_weight='balanced',\n",
    "    ])\n",
    "\n",
    "# run cross validation\n",
    "scores = cross_val_score(clf, X, Y, cv=5)\n",
    "\n",
    "print(scores)\n",
    "print(\"Accuracy: %0.2f (+/- %0.2f)\" % (scores.mean(), scores.std() * 2))"
   ]
  },
  {
   "cell_type": "code",
   "execution_count": 20,
   "metadata": {},
   "outputs": [
    {
     "name": "stdout",
     "output_type": "stream",
     "text": [
      "max accuracy = 0.89 when C=0.1\n"
     ]
    },
    {
     "data": {
      "text/plain": [
       "Text(0,0.5,'accuracy')"
      ]
     },
     "execution_count": 20,
     "metadata": {},
     "output_type": "execute_result"
    },
    {
     "data": {
      "image/png": "[encoded data removed]",
      "text/plain": [
       "<Figure size 432x288 with 1 Axes>"
      ]
     },
     "metadata": {},
     "output_type": "display_data"
    }
   ],
   "source": [
    "# repeat for a wide range of C\n",
    "Cs = 10**np.linspace(-20,20,41)\n",
    "Cs\n",
    "\n",
    "k = 5\n",
    "scores = list()\n",
    "for C in Cs:\n",
    "    clf = Pipeline([\n",
    "        (\"scaler\", StandardScaler()),\n",
    "        (\"linear_svc\", LinearSVC(C=C, loss=\"hinge\",  random_state=42)), # class_weight='balanced',\n",
    "    ])\n",
    "\n",
    "    scores.append(cross_val_score(clf, X, Y, cv=k))\n",
    "    \n",
    "#scores\n",
    "\n",
    "mean_scores = np.mean(scores,axis=1)\n",
    "#print(mean_scores)\n",
    "\n",
    "maxIdx=np.argmax(mean_scores)\n",
    "print(\"max accuracy = {} when C={}\".format(mean_scores[maxIdx], Cs[maxIdx]))\n",
    "\n",
    "\n",
    "\n",
    "\n",
    "import matplotlib.pyplot as plt\n",
    "%matplotlib inline\n",
    "\n",
    "plt.plot(np.log10(Cs),mean_scores)\n",
    "plt.plot(np.log10(Cs), baseAcc*np.ones_like(Cs), '--')\n",
    "plt.xlabel('log_10(C)')\n",
    "plt.ylabel('accuracy')\n",
    "    \n",
    "\n",
    "    "
   ]
  },
  {
   "cell_type": "markdown",
   "metadata": {},
   "source": [
    "\n",
    "## Adding `balancing` \n"
   ]
  },
  {
   "cell_type": "code",
   "execution_count": 21,
   "metadata": {},
   "outputs": [
    {
     "name": "stdout",
     "output_type": "stream",
     "text": [
      "max accuracy = 0.89 when C=0.1\n"
     ]
    },
    {
     "data": {
      "text/plain": [
       "Text(0,0.5,'accuracy')"
      ]
     },
     "execution_count": 21,
     "metadata": {},
     "output_type": "execute_result"
    },
    {
     "data": {
      "image/png": "[encoded data removed]",
      "text/plain": [
       "<Figure size 432x288 with 1 Axes>"
      ]
     },
     "metadata": {},
     "output_type": "display_data"
    }
   ],
   "source": [
    "# repeat for a wide range of C\n",
    "Cs = 10**np.linspace(-20,20,41)\n",
    "Cs\n",
    "\n",
    "k = 5\n",
    "scores = list()\n",
    "for C in Cs:\n",
    "    clf = Pipeline([\n",
    "        (\"scaler\", StandardScaler()),\n",
    "        (\"linear_svc\", LinearSVC(C=C, loss=\"hinge\",  class_weight='balanced', random_state=42)),  # balanced!\n",
    "    ])\n",
    "\n",
    "    scores.append(cross_val_score(clf, X, Y, cv=k))\n",
    "    \n",
    "#scores\n",
    "\n",
    "mean_scores_balanced = np.mean(scores,axis=1)\n",
    "#print(mean_scores_balanced)\n",
    "\n",
    "maxIdx=np.argmax(mean_scores_balanced)\n",
    "print(\"max accuracy = {} when C={}\".format(mean_scores_balanced[maxIdx], Cs[maxIdx]))\n",
    "\n",
    "\n",
    "\n",
    "\n",
    "import matplotlib.pyplot as plt\n",
    "%matplotlib inline\n",
    "\n",
    "plt.plot(np.log10(Cs),mean_scores)\n",
    "plt.plot(np.log10(Cs),mean_scores_balanced)\n",
    "plt.plot(np.log10(Cs), baseAcc*np.ones_like(Cs), '--')\n",
    "plt.legend(('equal weight','balanced', 'baseline'))\n",
    "plt.xlabel('log_10(C)')\n",
    "plt.ylabel('accuracy')\n",
    "    "
   ]
  },
  {
   "cell_type": "code",
   "execution_count": 25,
   "metadata": {},
   "outputs": [
    {
     "name": "stdout",
     "output_type": "stream",
     "text": [
      "In the training set of size(35,),\n",
      "cor: 29, incor: 6\n",
      "In the training set of size(9,),\n",
      "cor: 7, incor: 2\n",
      "base accuracy = 0.7777777777777778\n",
      "[[7 0]\n",
      " [1 1]]\n",
      "[[7 0]\n",
      " [1 1]]\n",
      "[[6 1]\n",
      " [1 1]]\n",
      "[[6 1]\n",
      " [0 2]]\n",
      "[[6 1]\n",
      " [0 2]]\n",
      "training accuracy\n",
      "[1.0, 1.0, 1.0, 1.0, 1.0]\n",
      "test accuracy\n",
      "[0.8888888888888888, 0.8888888888888888, 0.7777777777777778, 0.8888888888888888, 0.8888888888888888]\n",
      "0.8666666666666666\n"
     ]
    }
   ],
   "source": [
    "# let's repeat & check confusion matrix!\n",
    "\n",
    "clf = Pipeline([\n",
    "    (\"scaler\", StandardScaler()),\n",
    "    (\"linear_svc\", LinearSVC(C=10, loss=\"hinge\", random_state=42)),  # balanced!\n",
    "    #(\"linear_svc\", LinearSVC(C=10, loss=\"hinge\",  class_weight='balanced', random_state=42)),  # balanced!\n",
    "])\n",
    "    \n",
    "\n",
    "from sklearn.model_selection import StratifiedShuffleSplit\n",
    "from sklearn.metrics import confusion_matrix\n",
    "\n",
    "split = StratifiedShuffleSplit(n_splits=5, test_size=1/5, random_state=42)\n",
    "\n",
    "k = 0\n",
    "\n",
    "acc_train = list()\n",
    "acc_test = list()\n",
    "for train_index, test_index in split.split(X,Y):\n",
    "#    print(train_index)\n",
    "#    print(test_index)\n",
    "    if k==0:   # print info\n",
    "        print(\"In the training set of size{},\".format(Y[train_index].shape))\n",
    "        print(\"cor: {}, incor: {}\".format(sum(Y[train_index]==1),sum(Y[train_index]==-1)))\n",
    "        print(\"In the training set of size{},\".format(Y[test_index].shape))    \n",
    "        print(\"cor: {}, incor: {}\".format(sum(Y[test_index]==1),sum(Y[test_index]==-1)))\n",
    "        baseAcc = sum(Y[test_index]==1) / (sum(Y[test_index]==1)+sum(Y[test_index]==-1)) \n",
    "        print(\"base accuracy = {}\".format(baseAcc))\n",
    "\n",
    "    X_train = X[train_index,:]\n",
    "    Y_train = Y[train_index]\n",
    "    X_test = X[test_index,:]    \n",
    "    Y_test = Y[test_index]\n",
    "    \n",
    "    clf.fit(X_train,Y_train)\n",
    "\n",
    "    # training error\n",
    "    Yhat_train = clf.predict(X_train)\n",
    "    acc_train.append(np.mean(Yhat_train==Y_train))\n",
    "\n",
    "    # test error\n",
    "    Yhat_test = clf.predict(X_test)\n",
    "    acc_test.append(np.mean(Yhat_test==Y_test))\n",
    " \n",
    "    cm = confusion_matrix(Y_test, Yhat_test, labels=(1,-1))\n",
    "    print(cm)\n",
    "\n",
    "#     # let's manually check\n",
    "#     print(sum((Y_test == 1) & (Yhat_test == 1)))    # 1s are (correctly) predicted as 1s\n",
    "#     print(sum((Y_test == 1) & (Yhat_test == -1)))   # 1s are predicted as -1\n",
    "#     print(sum((Y_test == -1) & (Yhat_test == 1)))   # -1s are predicted as 1\n",
    "#     print(sum((Y_test == -1) & (Yhat_test == -1)))  # -1s are (correctly) predicted as -1\n",
    "\n",
    "    \n",
    "    k = k + 1\n",
    "print(\"training accuracy\")    \n",
    "print(acc_train)\n",
    "print(\"test accuracy\")    \n",
    "print(acc_test)\n",
    "print(np.mean(acc_test))"
   ]
  },
  {
   "cell_type": "code",
   "execution_count": 54,
   "metadata": {},
   "outputs": [
    {
     "data": {
      "text/plain": [
       "array([[ 1., 15.],\n",
       "       [ 4., 16.],\n",
       "       [ 4., 22.],\n",
       "       [ 8., 21.],\n",
       "       [ 9., 22.]])"
      ]
     },
     "execution_count": 54,
     "metadata": {},
     "output_type": "execute_result"
    },
    {
     "data": {
      "image/png": "[encoded data removed]",
      "text/plain": [
       "<Figure size 432x288 with 1 Axes>"
      ]
     },
     "metadata": {},
     "output_type": "display_data"
    }
   ],
   "source": [
    "# re-train using all the data (CAN I DO THIS?)\n",
    "\n",
    "clf.fit(X,Y)\n",
    "\n",
    "# get coefficient of SVM\n",
    "w = clf.named_steps['linear_svc'].coef_\n",
    "w = w.ravel()\n",
    "#w.shape\n",
    "plt.plot(w)\n",
    "plt.ylabel('w')\n",
    "plt.xlabel('feature index')\n",
    "\n",
    "\n",
    "w.shape\n",
    "#listSelectedFeature.shape\n",
    "listSelectedFeature[w>0.1,:]\n",
    "\n",
    "listSelectedFeature[w<-0.1,:]\n"
   ]
  },
  {
   "cell_type": "markdown",
   "metadata": {},
   "source": [
    "## So, conclusions are\n",
    "* linear SVM does *NOT* work for p<0.05\n",
    "* linear SVM does workf for p<0.1"
   ]
  },
  {
   "cell_type": "markdown",
   "metadata": {},
   "source": [
    "## Nonlinear SVMs"
   ]
  },
  {
   "cell_type": "code",
   "execution_count": 7,
   "metadata": {},
   "outputs": [
    {
     "name": "stdout",
     "output_type": "stream",
     "text": [
      "1.0\n"
     ]
    },
    {
     "data": {
      "text/plain": [
       "[<matplotlib.lines.Line2D at 0x11184def0>]"
      ]
     },
     "execution_count": 7,
     "metadata": {},
     "output_type": "execute_result"
    },
    {
     "data": {
      "image/png": "[encoded data removed]",
      "text/plain": [
       "<Figure size 432x288 with 1 Axes>"
      ]
     },
     "metadata": {},
     "output_type": "display_data"
    }
   ],
   "source": [
    "from sklearn.pipeline import Pipeline\n",
    "\n",
    "rbf_kernel_svm_clf = Pipeline([\n",
    "        (\"scaler\", StandardScaler()),\n",
    "        (\"svm_clf\", svm.SVC(kernel=\"rbf\", gamma=2, C=10,random_state=42))   # class_weight='balanced',\n",
    "    ])\n",
    "    \n",
    "rbf_kernel_svm_clf.fit(X, Y)\n",
    "\n",
    "Yhat=rbf_kernel_svm_clf.predict(X)\n",
    "print(np.mean(Y==Yhat))\n",
    "plt.plot(Yhat)"
   ]
  },
  {
   "cell_type": "markdown",
   "metadata": {},
   "source": [
    "## Cross validation with nonlinear SVM"
   ]
  },
  {
   "cell_type": "code",
   "execution_count": 8,
   "metadata": {},
   "outputs": [
    {
     "name": "stdout",
     "output_type": "stream",
     "text": [
      "gamma=0.0078125\n",
      "gamma=0.015625\n",
      "gamma=0.03125\n",
      "gamma=0.0625\n",
      "gamma=0.125\n",
      "gamma=0.25\n",
      "gamma=0.5\n",
      "gamma=1.0\n",
      "gamma=2.0\n",
      "gamma=4.0\n",
      "gamma=8.0\n",
      "max accuracy = 0.8855555555555554 when gamma=0.0078125 and C=10.0\n"
     ]
    }
   ],
   "source": [
    "# repeat for a wide range of gamma and C\n",
    "\n",
    "Gs=2**np.linspace(-7,3,11)\n",
    "Gs\n",
    "Cs = 10**np.linspace(-20,20,41)\n",
    "Cs\n",
    "\n",
    "\n",
    "# unbalanced \n",
    "k = 5\n",
    "gs = list()\n",
    "cs = list()\n",
    "scores = list()\n",
    "for G in Gs:\n",
    "    print(\"gamma={}\".format(G))\n",
    "    for C in Cs:\n",
    "        rbf_kernel_svm_clf = Pipeline([\n",
    "            (\"scaler\", StandardScaler()),\n",
    "            (\"svm_clf\", svm.SVC(kernel=\"rbf\", gamma=G, C=C,random_state=42))   # class_weight='balanced',\n",
    "        ])\n",
    "        gs.append(G)\n",
    "        cs.append(C)\n",
    "        scores.append(cross_val_score(rbf_kernel_svm_clf, X, Y, cv=k))\n",
    "\n",
    "\n",
    "mean_scores = np.mean(scores,axis=1)\n",
    "#print(mean_scores)    \n",
    "\n",
    "\n",
    "maxIdx=np.argmax(mean_scores)\n",
    "print(\"max accuracy = {} when gamma={} and C={}\".format(mean_scores[maxIdx], gs[maxIdx], cs[maxIdx]))\n",
    "\n",
    "\n",
    "\n",
    "\n",
    "# save results to files\n",
    "np.savetxt(\"gamma.txt\", gs)\n",
    "np.savetxt(\"C.txt\", Cs)\n",
    "np.savetxt(\"scores.txt\", scores)\n",
    "np.savetxt(\"mean_scores.txt\", mean_scores)\n"
   ]
  },
  {
   "cell_type": "code",
   "execution_count": 9,
   "metadata": {},
   "outputs": [
    {
     "data": {
      "text/plain": [
       "Text(0,0.5,'accuracy')"
      ]
     },
     "execution_count": 9,
     "metadata": {},
     "output_type": "execute_result"
    },
    {
     "data": {
      "image/png": "[encoded data removed]",
      "text/plain": [
       "<Figure size 432x288 with 1 Axes>"
      ]
     },
     "metadata": {},
     "output_type": "display_data"
    }
   ],
   "source": [
    "import matplotlib.pyplot as plt\n",
    "%matplotlib inline\n",
    "\n",
    "plt.plot(mean_scores)\n",
    "#plt.plot(np.log10(Cs), mean_scores)\n",
    "plt.plot(baseAcc*np.ones_like(mean_scores), '--')\n",
    "plt.xlabel('(gamma,C)')\n",
    "plt.ylabel('accuracy')"
   ]
  },
  {
   "cell_type": "code",
   "execution_count": 10,
   "metadata": {},
   "outputs": [
    {
     "data": {
      "text/plain": [
       "8.015"
      ]
     },
     "execution_count": 10,
     "metadata": {},
     "output_type": "execute_result"
    }
   ],
   "source": [
    "0.8905555555555555*9"
   ]
  },
  {
   "cell_type": "markdown",
   "metadata": {},
   "source": [
    "## add balance"
   ]
  },
  {
   "cell_type": "code",
   "execution_count": 11,
   "metadata": {},
   "outputs": [
    {
     "name": "stdout",
     "output_type": "stream",
     "text": [
      "gamma=0.0078125\n",
      "gamma=0.015625\n",
      "gamma=0.03125\n",
      "gamma=0.0625\n",
      "gamma=0.125\n",
      "gamma=0.25\n",
      "gamma=0.5\n",
      "gamma=1.0\n",
      "gamma=2.0\n",
      "gamma=4.0\n",
      "gamma=8.0\n",
      "max accuracy = 0.9105555555555556 when gamma=0.0078125 and C=1.0\n"
     ]
    }
   ],
   "source": [
    "## add balance\n",
    "\n",
    "Gs=2**np.linspace(-7,3,11)\n",
    "Gs\n",
    "Cs = 10**np.linspace(-20,20,41)\n",
    "Cs\n",
    "\n",
    "\n",
    "# unbalanced \n",
    "k = 5\n",
    "gs = list()\n",
    "cs = list()\n",
    "scores_balanced = list()\n",
    "for G in Gs:\n",
    "    print(\"gamma={}\".format(G))\n",
    "    for C in Cs:\n",
    "        rbf_kernel_svm_clf = Pipeline([\n",
    "            (\"scaler\", StandardScaler()),\n",
    "            (\"svm_clf\", svm.SVC(kernel=\"rbf\", gamma=G, C=C, class_weight='balanced', random_state=42))   # ,\n",
    "        ])\n",
    "        gs.append(G)\n",
    "        cs.append(C)\n",
    "        scores_balanced.append(cross_val_score(rbf_kernel_svm_clf, X, Y, cv=k))\n",
    "\n",
    "\n",
    "mean_scores_balanced = np.mean(scores_balanced,axis=1)\n",
    "#print(mean_scores)    \n",
    "\n",
    "\n",
    "maxIdx=np.argmax(mean_scores_balanced)\n",
    "print(\"max accuracy = {} when gamma={} and C={}\".format(mean_scores_balanced[maxIdx], gs[maxIdx], cs[maxIdx]))\n",
    "\n",
    "\n",
    "\n",
    "\n",
    "# save results to files\n",
    "np.savetxt(\"gamma_balanced.txt\", gs)\n",
    "np.savetxt(\"C_balanced.txt\", Cs)\n",
    "np.savetxt(\"scores_balanced.txt\", scores_balanced)\n",
    "np.savetxt(\"mean_scores_balanced.txt\", mean_scores_balanced)\n"
   ]
  },
  {
   "cell_type": "code",
   "execution_count": 12,
   "metadata": {},
   "outputs": [
    {
     "data": {
      "text/plain": [
       "Text(0,0.5,'accuracy')"
      ]
     },
     "execution_count": 12,
     "metadata": {},
     "output_type": "execute_result"
    },
    {
     "data": {
      "image/png": "[encoded data removed]",
      "text/plain": [
       "<Figure size 432x288 with 1 Axes>"
      ]
     },
     "metadata": {},
     "output_type": "display_data"
    }
   ],
   "source": [
    "import matplotlib.pyplot as plt\n",
    "%matplotlib inline\n",
    "\n",
    "plt.plot(mean_scores)\n",
    "#plt.plot(np.log10(Cs), mean_scores)\n",
    "plt.plot(baseAcc*np.ones_like(mean_scores), '--')\n",
    "plt.xlabel('(gamma,C)')\n",
    "plt.ylabel('accuracy')"
   ]
  },
  {
   "cell_type": "code",
   "execution_count": 13,
   "metadata": {},
   "outputs": [
    {
     "data": {
      "text/plain": [
       "1.0"
      ]
     },
     "execution_count": 13,
     "metadata": {},
     "output_type": "execute_result"
    }
   ],
   "source": [
    "# refit using the best param\n",
    "rbf_kernel_svm_clf = Pipeline([\n",
    "    (\"scaler\", StandardScaler()),\n",
    "    (\"svm_clf\", svm.SVC(kernel=\"rbf\", gamma=0.03125, C=1, class_weight='balanced', random_state=42))   # ,\n",
    "])\n",
    "\n",
    "rbf_kernel_svm_clf.fit(X,Y)\n",
    "\n",
    "# training error = 0\n",
    "Yhat = rbf_kernel_svm_clf.predict(X)\n",
    "np.mean(Yhat==Y)"
   ]
  },
  {
   "cell_type": "code",
   "execution_count": 14,
   "metadata": {},
   "outputs": [
    {
     "name": "stdout",
     "output_type": "stream",
     "text": [
      "In the training set of size(35,),\n",
      "cor: 29, incor: 6\n",
      "In the training set of size(9,),\n",
      "cor: 7, incor: 2\n",
      "base accuracy = 0.7777777777777778\n",
      "[[7 0]\n",
      " [2 0]]\n",
      "[[7 0]\n",
      " [2 0]]\n",
      "[[7 0]\n",
      " [2 0]]\n",
      "[[7 0]\n",
      " [2 0]]\n",
      "[[7 0]\n",
      " [2 0]]\n",
      "training accuracy\n",
      "[1.0, 1.0, 1.0, 1.0, 1.0]\n",
      "test accuracy\n",
      "[0.7777777777777778, 0.7777777777777778, 0.7777777777777778, 0.7777777777777778, 0.7777777777777778]\n",
      "0.7777777777777778\n",
      "0.0\n"
     ]
    }
   ],
   "source": [
    "# let's repeat & check confusion matrix!\n",
    "\n",
    "from sklearn.model_selection import StratifiedShuffleSplit\n",
    "from sklearn.metrics import confusion_matrix\n",
    "\n",
    "split = StratifiedShuffleSplit(n_splits=5, test_size=1/5, random_state=42)\n",
    "\n",
    "k = 0\n",
    "\n",
    "acc_train = list()\n",
    "acc_test = list()\n",
    "for train_index, test_index in split.split(X,Y):\n",
    "#    print(train_index)\n",
    "#    print(test_index)\n",
    "    if k==0:   # print info\n",
    "        print(\"In the training set of size{},\".format(Y[train_index].shape))\n",
    "        print(\"cor: {}, incor: {}\".format(sum(Y[train_index]==1),sum(Y[train_index]==-1)))\n",
    "        print(\"In the training set of size{},\".format(Y[test_index].shape))    \n",
    "        print(\"cor: {}, incor: {}\".format(sum(Y[test_index]==1),sum(Y[test_index]==-1)))\n",
    "        baseAcc = sum(Y[test_index]==1) / (sum(Y[test_index]==1)+sum(Y[test_index]==-1)) \n",
    "        print(\"base accuracy = {}\".format(baseAcc))\n",
    "\n",
    "    X_train = X[train_index,:]\n",
    "    Y_train = Y[train_index]\n",
    "    X_test = X[test_index,:]    \n",
    "    Y_test = Y[test_index]\n",
    "    \n",
    "    rbf_kernel_svm_clf.fit(X_train,Y_train)\n",
    "\n",
    "    # training error\n",
    "    Yhat_train = rbf_kernel_svm_clf.predict(X_train)\n",
    "    acc_train.append(np.mean(Yhat_train==Y_train))\n",
    "\n",
    "    # test error\n",
    "    Yhat_test = rbf_kernel_svm_clf.predict(X_test)\n",
    "    acc_test.append(np.mean(Yhat_test==Y_test))\n",
    " \n",
    "    cm = confusion_matrix(Y_test, Yhat_test, labels=(1,-1))\n",
    "    print(cm)\n",
    "\n",
    "#     # let's manually check\n",
    "#     print(sum((Y_test == 1) & (Yhat_test == 1)))    # 1s are (correctly) predicted as 1s\n",
    "#     print(sum((Y_test == 1) & (Yhat_test == -1)))   # 1s are predicted as -1\n",
    "#     print(sum((Y_test == -1) & (Yhat_test == 1)))   # -1s are predicted as 1\n",
    "#     print(sum((Y_test == -1) & (Yhat_test == -1)))  # -1s are (correctly) predicted as -1\n",
    "\n",
    "    \n",
    "    k = k + 1\n",
    "print(\"training accuracy\")    \n",
    "print(acc_train)\n",
    "print(\"test accuracy\")    \n",
    "print(acc_test)\n",
    "print(np.mean(acc_test))\n",
    "print(np.std(acc_test))"
   ]
  },
  {
   "cell_type": "code",
   "execution_count": 15,
   "metadata": {},
   "outputs": [
    {
     "data": {
      "text/plain": [
       "array([1., 1., 1., 1., 1., 1., 1., 1., 1.])"
      ]
     },
     "execution_count": 15,
     "metadata": {},
     "output_type": "execute_result"
    }
   ],
   "source": [
    "Yhat_test"
   ]
  },
  {
   "cell_type": "code",
   "execution_count": 16,
   "metadata": {},
   "outputs": [
    {
     "data": {
      "text/plain": [
       "0.8888888888888888"
      ]
     },
     "execution_count": 16,
     "metadata": {},
     "output_type": "execute_result"
    }
   ],
   "source": [
    "8/9"
   ]
  },
  {
   "cell_type": "code",
   "execution_count": null,
   "metadata": {},
   "outputs": [],
   "source": []
  }
 ],
 "metadata": {
  "kernelspec": {
   "display_name": "Python 3",
   "language": "python",
   "name": "python3"
  },
  "language_info": {
   "codemirror_mode": {
    "name": "ipython",
    "version": 3
   },
   "file_extension": ".py",
   "mimetype": "text/x-python",
   "name": "python",
   "nbconvert_exporter": "python",
   "pygments_lexer": "ipython3",
   "version": "3.6.4"
  }
 },
 "nbformat": 4,
 "nbformat_minor": 2
}
